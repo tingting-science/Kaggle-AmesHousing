{
 "cells": [
  {
   "attachments": {},
   "cell_type": "markdown",
   "metadata": {},
   "source": [
    "## Best Score on Leader Board (22%):\n",
    "\n",
    "#### model_a_ET\n",
    "- `Elastic Net (l1_ratio=0.5, alpha=0.001, max_iter=1000)`\n",
    "- `train_a1.csv, test_a1.csv from \"AmesHousing-DataPreProcessingA\" file`\n",
    "    - One-Hot Encoded most of categorical features \n",
    "    - Except time related features & 'OverallCond'&'OverallQual'"
   ]
  },
  {
   "cell_type": "markdown",
   "metadata": {},
   "source": [
    "## Import "
   ]
  },
  {
   "cell_type": "code",
   "execution_count": 34,
   "metadata": {},
   "outputs": [],
   "source": [
    "# import\n",
    "import numpy as np\n",
    "import pandas as pd\n",
    "import matplotlib.pyplot as plt\n",
    "% matplotlib inline"
   ]
  },
  {
   "cell_type": "code",
   "execution_count": 45,
   "metadata": {},
   "outputs": [],
   "source": [
    "# import\n",
    "from sklearn.preprocessing import StandardScaler\n",
    "from sklearn.model_selection import KFold #sklearn.cross_valication has KFold too, different\n",
    "from sklearn.pipeline import Pipeline\n",
    "\n",
    "from sklearn.linear_model import Lasso\n",
    "from sklearn.linear_model import ElasticNet\n",
    "from sklearn.ensemble import GradientBoostingRegressor\n",
    "from xgboost import XGBRegressor\n",
    "\n",
    "from sklearn.model_selection import cross_val_score\n",
    "from sklearn.model_selection import GridSearchCV"
   ]
  },
  {
   "cell_type": "markdown",
   "metadata": {},
   "source": [
    "## Load Data (a1)"
   ]
  },
  {
   "cell_type": "code",
   "execution_count": 36,
   "metadata": {},
   "outputs": [],
   "source": [
    "# load data (pre-processed)\n",
    "train = pd.read_csv(\"train_a1.csv\")\n",
    "test = pd.read_csv(\"test_a1.csv\")"
   ]
  },
  {
   "cell_type": "markdown",
   "metadata": {},
   "source": [
    "## np array & drop \"Id' col"
   ]
  },
  {
   "cell_type": "code",
   "execution_count": 37,
   "metadata": {},
   "outputs": [
    {
     "name": "stdout",
     "output_type": "stream",
     "text": [
      "(1458, 317) (1458,) (1459, 317)\n"
     ]
    }
   ],
   "source": [
    "X_train = train.iloc[:,1:-1].values # excule 'SalePrice'\n",
    "y_train = train['SalePrice'].values\n",
    "\n",
    "X_test = test.iloc[:,1:].values\n",
    "\n",
    "print(X_train.shape, y_train.shape, X_test.shape)"
   ]
  },
  {
   "cell_type": "code",
   "execution_count": 38,
   "metadata": {},
   "outputs": [
    {
     "data": {
      "text/plain": [
       "0"
      ]
     },
     "execution_count": 38,
     "metadata": {},
     "output_type": "execute_result"
    }
   ],
   "source": [
    "train.isnull().sum().sum()"
   ]
  },
  {
   "cell_type": "markdown",
   "metadata": {},
   "source": [
    "##  Log Transform of Sale Price"
   ]
  },
  {
   "cell_type": "code",
   "execution_count": 39,
   "metadata": {},
   "outputs": [
    {
     "name": "stdout",
     "output_type": "stream",
     "text": [
      "[12.24769432 12.10901093 12.31716669 ... 12.49312952 11.86446223\n",
      " 11.90158345]\n"
     ]
    }
   ],
   "source": [
    "# Log Transform SalePrice \n",
    "y_train_log = np.log(train['SalePrice'].values)\n",
    "print(y_train_log)"
   ]
  },
  {
   "cell_type": "markdown",
   "metadata": {},
   "source": [
    "## Algorithm Evaluation "
   ]
  },
  {
   "cell_type": "code",
   "execution_count": 43,
   "metadata": {},
   "outputs": [],
   "source": [
    "def evalute_models(X,y,models,scoring_method='neg_mean_squared_error',num_folds=3,random_seed=7, scaler = None):\n",
    "    '''\n",
    "    models: list of (name, model)tuples) \n",
    "        E.g., models = [('ET',ElasticNet()), ('GBM',GradientBoostingRegressor())]                   \n",
    "    scoring_method: scoring method\n",
    "        E.g., scoring_method = 'neg_mean_squared_error' \n",
    "        scoring matrics: https://scikit-learn.org/stable/modules/model_evaluation.html\n",
    "    scaler (in passin in): in form of instance\n",
    "        E.g., scaler = StandardScaler()\n",
    "    '''\n",
    "    # pipeline models\n",
    "    pipelines=[]\n",
    "    if scaler == None:\n",
    "        pipelines = models\n",
    "    else:\n",
    "        for name, model in models:\n",
    "            pipelines.append((name,Pipeline([('Scaler',scaler),('Model',model)]))) \n",
    "    # evaluate     \n",
    "    names = []\n",
    "    results = []\n",
    "    for name, model in pipelines:\n",
    "        kfold=KFold(n_splits=num_folds, random_state=random_seed)\n",
    "        cv_result = np.sqrt(-cross_val_score(model, X, y, scoring=scoring_method, cv=kfold,n_jobs=-1))\n",
    "        results.append(cv_result)\n",
    "        names.append(name)\n",
    "        print(\"%s:%f(%f)\"%(name, cv_result.mean(), cv_result.std()))\n",
    "    # plot\n",
    "    fig, ax = plt.subplots(figsize=(10,6))\n",
    "    ax.set_title('Algorithm Comparison')\n",
    "    ax.boxplot(results)\n",
    "    ax.set_xticklabels(names);\n",
    "    return ax  "
   ]
  },
  {
   "cell_type": "markdown",
   "metadata": {},
   "source": [
    "### Baseline"
   ]
  },
  {
   "cell_type": "markdown",
   "metadata": {},
   "source": [
    "- no scaler"
   ]
  },
  {
   "cell_type": "code",
   "execution_count": 41,
   "metadata": {},
   "outputs": [
    {
     "name": "stdout",
     "output_type": "stream",
     "text": [
      "Lasso:0.168838(0.006124)\n",
      "ET:0.161395(0.004254)\n",
      "GBM:0.124614(0.006966)\n",
      "XBG:0.125776(0.007434)\n"
     ]
    },
    {
     "data": {
      "text/plain": [
       "<matplotlib.axes._subplots.AxesSubplot at 0x1a1a375e80>"
      ]
     },
     "execution_count": 41,
     "metadata": {},
     "output_type": "execute_result"
    },
    {
     "data": {
      "image/png": "[encoded data removed]",
      "text/plain": [
       "<matplotlib.figure.Figure at 0x1192768d0>"
      ]
     },
     "metadata": {},
     "output_type": "display_data"
    }
   ],
   "source": [
    "models = []\n",
    "models.append(('Lasso',Lasso()))\n",
    "models.append(('ET',ElasticNet()))\n",
    "models.append(('GBM',GradientBoostingRegressor()))\n",
    "models.append(('XBG',XGBRegressor()))\n",
    "\n",
    "evalute_models(X_train, y_train_log, models)"
   ]
  },
  {
   "cell_type": "markdown",
   "metadata": {},
   "source": [
    "- standscaler"
   ]
  },
  {
   "cell_type": "code",
   "execution_count": 44,
   "metadata": {},
   "outputs": [
    {
     "name": "stdout",
     "output_type": "stream",
     "text": [
      "Lasso:0.399587(0.010212)\n",
      "ET:0.399587(0.010212)\n",
      "GBM:0.124572(0.006965)\n",
      "XBG:0.125828(0.007391)\n"
     ]
    },
    {
     "data": {
      "text/plain": [
       "<matplotlib.axes._subplots.AxesSubplot at 0x112742a58>"
      ]
     },
     "execution_count": 44,
     "metadata": {},
     "output_type": "execute_result"
    },
    {
     "data": {
      "image/png": "[encoded data removed]",
      "text/plain": [
       "<matplotlib.figure.Figure at 0x113f933c8>"
      ]
     },
     "metadata": {},
     "output_type": "display_data"
    }
   ],
   "source": [
    "evalute_models(X_train, y_train_log, models, scaler=StandardScaler())"
   ]
  },
  {
   "cell_type": "markdown",
   "metadata": {},
   "source": [
    "- Lasso, ET: Worse Score with StandardScaler\n",
    "- GBM, XGB: No Obvious Improvement with StandardScaler"
   ]
  },
  {
   "cell_type": "markdown",
   "metadata": {},
   "source": [
    "## Tune Algorithms"
   ]
  },
  {
   "cell_type": "code",
   "execution_count": 48,
   "metadata": {},
   "outputs": [],
   "source": [
    "def tune_model(name,model,param_grid,X,y,scoring='neg_mean_squared_error',num_folds=3,rand_seed=7):\n",
    "    kfold = KFold(n_splits=num_folds, random_state=rand_seed)\n",
    "    # Grid Search CV\n",
    "    grid = GridSearchCV(model, param_grid, scoring, n_jobs=-1, cv=kfold, return_train_score= True)\n",
    "    grid_result = grid.fit(X, y)\n",
    "    print(name)\n",
    "    print('BestTestScore: %.6f %s'%(grid_result.best_score_, grid_result.best_params_))\n",
    "    return None"
   ]
  },
  {
   "cell_type": "markdown",
   "metadata": {},
   "source": [
    "### XGB"
   ]
  },
  {
   "cell_type": "code",
   "execution_count": 49,
   "metadata": {},
   "outputs": [
    {
     "name": "stdout",
     "output_type": "stream",
     "text": [
      "{'learning_rate': [0.05, 0.1, 0.15], 'max_depth': [2, 3], 'n_estimators': [200, 300, 400]}\n",
      "XGB\n",
      "BestTestScore: -0.014471 {'learning_rate': 0.15, 'max_depth': 2, 'n_estimators': 400}\n"
     ]
    }
   ],
   "source": [
    "# name\n",
    "name = 'XGB'\n",
    "# model\n",
    "model = XGBRegressor()\n",
    "# param_grid (learning_rate, n_estimators)\n",
    "param_grid = {}\n",
    "param_grid['max_depth']=[2,3]\n",
    "param_grid['learning_rate']=[0.05,0.1,0.15]\n",
    "param_grid['n_estimators']=[200,300,400]\n",
    "print(param_grid)\n",
    "\n",
    "# tune\n",
    "tune_model(name, model, param_grid, X_train,y_train_log)"
   ]
  },
  {
   "cell_type": "markdown",
   "metadata": {},
   "source": [
    "- Fine Tune 'learning_rate' & 'n_estimators'"
   ]
  },
  {
   "cell_type": "code",
   "execution_count": 50,
   "metadata": {},
   "outputs": [
    {
     "name": "stdout",
     "output_type": "stream",
     "text": [
      "{'learning_rate': [0.13, 0.15, 0.17], 'n_estimators': [380, 400, 420]}\n",
      "XGB\n",
      "BestTestScore: -0.014454 {'learning_rate': 0.15, 'n_estimators': 380}\n"
     ]
    }
   ],
   "source": [
    "# model\n",
    "model = XGBRegressor(max_depth=2)\n",
    "# param_grid (learning_rate, n_estimators)\n",
    "param_grid = {}\n",
    "param_grid['learning_rate']=[0.13,0.15,0.17]\n",
    "param_grid['n_estimators']=[380,400,420]\n",
    "print(param_grid)\n",
    "\n",
    "# tune\n",
    "tune_model(name, model, param_grid, X_train,y_train_log)"
   ]
  },
  {
   "cell_type": "markdown",
   "metadata": {},
   "source": [
    "- subsample\n",
    "- col_sample_bytree\n",
    "- col_sample_bylevel"
   ]
  },
  {
   "cell_type": "code",
   "execution_count": 52,
   "metadata": {},
   "outputs": [
    {
     "name": "stdout",
     "output_type": "stream",
     "text": [
      "XGB\n",
      "BestTestScore: -0.014277 {'learning_rate': 0.13, 'col_sample_bylevel': 0.8, 'subsample': 0.8, 'col_sample_bytree': 0.8}\n"
     ]
    }
   ],
   "source": [
    "# model\n",
    "model = XGBRegressor(max_depth=2, n_estimators=380)\n",
    "\n",
    "# param_grid \n",
    "param_grid = {}\n",
    "param_grid['learning_rate']=[0.13,0.14,0.15] #default 0.1\n",
    "param_grid['subsample']=[0.8,0.9, 1] #default 1\n",
    "param_grid['col_sample_bytree']=[0.8, 0.9, 1] #default 1\n",
    "param_grid['col_sample_bylevel']=[0.8, 0.9, 1] #default 1\n",
    "param_grid\n",
    "\n",
    "# tune\n",
    "tune_model(name, model, param_grid, X_train,y_train_log)"
   ]
  },
  {
   "cell_type": "markdown",
   "metadata": {},
   "source": [
    "### EN"
   ]
  },
  {
   "cell_type": "code",
   "execution_count": 55,
   "metadata": {},
   "outputs": [
    {
     "name": "stdout",
     "output_type": "stream",
     "text": [
      "EN\n",
      "BestTestScore: -0.013044 {'l1_ratio': 0.5, 'alpha': 0.001, 'max_iter': 1000}\n"
     ]
    }
   ],
   "source": [
    "# name\n",
    "name = 'EN'\n",
    "# model\n",
    "model = ElasticNet()\n",
    "# param_grid (learning_rate, n_estimators)\n",
    "param_grid = {'alpha':[1,0.01,0.001],\n",
    "             'l1_ratio':[0.5, 0.9],\n",
    "             'max_iter':[1000,10000]}\n",
    "# tune\n",
    "tune_model(name, model, param_grid, X_train,y_train_log)"
   ]
  },
  {
   "cell_type": "code",
   "execution_count": 62,
   "metadata": {},
   "outputs": [
    {
     "name": "stdout",
     "output_type": "stream",
     "text": [
      "EN\n",
      "BestTestScore: -0.013039 {'l1_ratio': 0.55, 'alpha': 0.001, 'max_iter': 900}\n"
     ]
    }
   ],
   "source": [
    "# param_grid (learning_rate, n_estimators)\n",
    "param_grid = {'alpha':[0.0011,0.001,0.0009],\n",
    "             'l1_ratio':[0.48,0.5,0.52,0.55],\n",
    "             'max_iter':[900,1000,2000]}\n",
    "# tune\n",
    "tune_model(name, model, param_grid, X_train,y_train_log)"
   ]
  },
  {
   "cell_type": "markdown",
   "metadata": {},
   "source": [
    "## Submission"
   ]
  },
  {
   "cell_type": "markdown",
   "metadata": {},
   "source": [
    "- model_a_ET(l1_ratio=0.5, alpha=0.001, max_iter=1000)"
   ]
  },
  {
   "cell_type": "code",
   "execution_count": 57,
   "metadata": {
    "scrolled": true
   },
   "outputs": [
    {
     "name": "stdout",
     "output_type": "stream",
     "text": [
      "model_a_ET: 0.9378273971134141\n"
     ]
    }
   ],
   "source": [
    "# train model_a_ET\n",
    "model_a_ET = ElasticNet(l1_ratio=0.5, alpha=0.001, max_iter=1000)\n",
    "model_a_ET.fit(X_train, y_train_log)\n",
    "print('model_a_ET:', model_a_ET.score(X_train,y_train_log))"
   ]
  },
  {
   "cell_type": "code",
   "execution_count": 58,
   "metadata": {},
   "outputs": [
    {
     "data": {
      "text/plain": [
       "array([11.68807844, 11.8998396 , 12.08657074, ..., 12.0372155 ,\n",
       "       11.66097933, 12.32287863])"
      ]
     },
     "execution_count": 58,
     "metadata": {},
     "output_type": "execute_result"
    }
   ],
   "source": [
    "prediction_a_ET = model_a_ET.predict(X_test)\n",
    "prediction_a_ET"
   ]
  },
  {
   "cell_type": "code",
   "execution_count": 59,
   "metadata": {},
   "outputs": [
    {
     "data": {
      "text/html": [
       "<div>\n",
       "<style scoped>\n",
       "    .dataframe tbody tr th:only-of-type {\n",
       "        vertical-align: middle;\n",
       "    }\n",
       "\n",
       "    .dataframe tbody tr th {\n",
       "        vertical-align: top;\n",
       "    }\n",
       "\n",
       "    .dataframe thead th {\n",
       "        text-align: right;\n",
       "    }\n",
       "</style>\n",
       "<table border=\"1\" class=\"dataframe\">\n",
       "  <thead>\n",
       "    <tr style=\"text-align: right;\">\n",
       "      <th></th>\n",
       "      <th>Id</th>\n",
       "      <th>SalePrice</th>\n",
       "    </tr>\n",
       "  </thead>\n",
       "  <tbody>\n",
       "    <tr>\n",
       "      <th>0</th>\n",
       "      <td>1461</td>\n",
       "      <td>119142.846706</td>\n",
       "    </tr>\n",
       "    <tr>\n",
       "      <th>1</th>\n",
       "      <td>1462</td>\n",
       "      <td>147243.004973</td>\n",
       "    </tr>\n",
       "    <tr>\n",
       "      <th>2</th>\n",
       "      <td>1463</td>\n",
       "      <td>177472.463586</td>\n",
       "    </tr>\n",
       "  </tbody>\n",
       "</table>\n",
       "</div>"
      ],
      "text/plain": [
       "     Id      SalePrice\n",
       "0  1461  119142.846706\n",
       "1  1462  147243.004973\n",
       "2  1463  177472.463586"
      ]
     },
     "execution_count": 59,
     "metadata": {},
     "output_type": "execute_result"
    }
   ],
   "source": [
    "saleprice_a_ET= np.exp(prediction_a_ET)\n",
    "\n",
    "# Create submission df\n",
    "submission_a_ET = pd.DataFrame({'Id':test['Id'], 'SalePrice':saleprice_a_ET})\n",
    "submission_a_ET.head(3)"
   ]
  },
  {
   "cell_type": "code",
   "execution_count": 60,
   "metadata": {},
   "outputs": [],
   "source": [
    "# Save submission df to .csv file\n",
    "submission_a_ET.to_csv(\"submission_a_ET.csv\", index=False)"
   ]
  },
  {
   "cell_type": "markdown",
   "metadata": {},
   "source": [
    "- model_a_ET2(l1_ratio=0.55, alpha=0.001, max_iter=900)"
   ]
  },
  {
   "cell_type": "code",
   "execution_count": 65,
   "metadata": {},
   "outputs": [
    {
     "name": "stdout",
     "output_type": "stream",
     "text": [
      "model_a_ET2: 0.9370365295101359\n"
     ]
    }
   ],
   "source": [
    "# train model_a_ET2\n",
    "model_a_ET2 = ElasticNet(l1_ratio=0.55, alpha=0.001, max_iter=900)\n",
    "model_a_ET2.fit(X_train, y_train_log)\n",
    "print('model_a_ET2:', model_a_ET2.score(X_train,y_train_log))"
   ]
  },
  {
   "cell_type": "code",
   "execution_count": 66,
   "metadata": {},
   "outputs": [
    {
     "data": {
      "text/plain": [
       "array([11.68937266, 11.89833563, 12.08595995, ..., 12.03912808,\n",
       "       11.66259677, 12.3277782 ])"
      ]
     },
     "execution_count": 66,
     "metadata": {},
     "output_type": "execute_result"
    }
   ],
   "source": [
    "prediction_a_ET2 = model_a_ET2.predict(X_test)\n",
    "prediction_a_ET2"
   ]
  },
  {
   "cell_type": "code",
   "execution_count": 67,
   "metadata": {},
   "outputs": [
    {
     "data": {
      "text/html": [
       "<div>\n",
       "<style scoped>\n",
       "    .dataframe tbody tr th:only-of-type {\n",
       "        vertical-align: middle;\n",
       "    }\n",
       "\n",
       "    .dataframe tbody tr th {\n",
       "        vertical-align: top;\n",
       "    }\n",
       "\n",
       "    .dataframe thead th {\n",
       "        text-align: right;\n",
       "    }\n",
       "</style>\n",
       "<table border=\"1\" class=\"dataframe\">\n",
       "  <thead>\n",
       "    <tr style=\"text-align: right;\">\n",
       "      <th></th>\n",
       "      <th>Id</th>\n",
       "      <th>SalePrice</th>\n",
       "    </tr>\n",
       "  </thead>\n",
       "  <tbody>\n",
       "    <tr>\n",
       "      <th>0</th>\n",
       "      <td>1461</td>\n",
       "      <td>119297.142682</td>\n",
       "    </tr>\n",
       "    <tr>\n",
       "      <th>1</th>\n",
       "      <td>1462</td>\n",
       "      <td>147021.723287</td>\n",
       "    </tr>\n",
       "    <tr>\n",
       "      <th>2</th>\n",
       "      <td>1463</td>\n",
       "      <td>177364.098960</td>\n",
       "    </tr>\n",
       "  </tbody>\n",
       "</table>\n",
       "</div>"
      ],
      "text/plain": [
       "     Id      SalePrice\n",
       "0  1461  119297.142682\n",
       "1  1462  147021.723287\n",
       "2  1463  177364.098960"
      ]
     },
     "execution_count": 67,
     "metadata": {},
     "output_type": "execute_result"
    }
   ],
   "source": [
    "saleprice_a_ET2= np.exp(prediction_a_ET2)\n",
    "\n",
    "# Create submission df\n",
    "submission_a_ET2 = pd.DataFrame({'Id':test['Id'], 'SalePrice':saleprice_a_ET2})\n",
    "submission_a_ET2.head(3)"
   ]
  },
  {
   "cell_type": "code",
   "execution_count": 68,
   "metadata": {},
   "outputs": [],
   "source": [
    "# Save submission df to .csv file\n",
    "submission_a_ET2.to_csv(\"submission_a_ET2.csv\", index=False)"
   ]
  },
  {
   "cell_type": "markdown",
   "metadata": {},
   "source": [
    "# Other Trials (without score improvement)"
   ]
  },
  {
   "cell_type": "markdown",
   "metadata": {},
   "source": [
    "## Use A2 Data (skewness corrected)"
   ]
  },
  {
   "cell_type": "markdown",
   "metadata": {},
   "source": [
    "## Load Data (a2)"
   ]
  },
  {
   "cell_type": "code",
   "execution_count": 70,
   "metadata": {},
   "outputs": [],
   "source": [
    "# load data (pre-processed)\n",
    "train2 = pd.read_csv(\"train_a2.csv\")\n",
    "test2 = pd.read_csv(\"test_a2.csv\")"
   ]
  },
  {
   "cell_type": "markdown",
   "metadata": {},
   "source": [
    "## np array & drop \"Id' col"
   ]
  },
  {
   "cell_type": "code",
   "execution_count": 71,
   "metadata": {},
   "outputs": [
    {
     "name": "stdout",
     "output_type": "stream",
     "text": [
      "(1458, 317) (1459, 317)\n"
     ]
    }
   ],
   "source": [
    "X_train2 = train2.iloc[:,1:-1].values # excule 'SalePrice'\n",
    "\n",
    "X_test2 = test2.iloc[:,1:].values\n",
    "\n",
    "print(X_train2.shape, X_test2.shape)"
   ]
  },
  {
   "cell_type": "markdown",
   "metadata": {},
   "source": [
    "### Baseline"
   ]
  },
  {
   "cell_type": "code",
   "execution_count": 73,
   "metadata": {
    "scrolled": false
   },
   "outputs": [
    {
     "name": "stdout",
     "output_type": "stream",
     "text": [
      "Lasso:0.299072(0.007856)\n",
      "ET:0.296161(0.006203)\n",
      "GBM:0.124519(0.007165)\n",
      "XBG:0.125778(0.007433)\n"
     ]
    },
    {
     "data": {
      "text/plain": [
       "<matplotlib.axes._subplots.AxesSubplot at 0x10f99e048>"
      ]
     },
     "execution_count": 73,
     "metadata": {},
     "output_type": "execute_result"
    },
    {
     "data": {
      "image/png": "[encoded data removed]",
      "text/plain": [
       "<matplotlib.figure.Figure at 0x113f76470>"
      ]
     },
     "metadata": {},
     "output_type": "display_data"
    }
   ],
   "source": [
    "models = []\n",
    "models.append(('Lasso',Lasso()))\n",
    "models.append(('ET',ElasticNet()))\n",
    "models.append(('GBM',GradientBoostingRegressor()))\n",
    "models.append(('XBG',XGBRegressor()))\n",
    "\n",
    "evalute_models(X_train2, y_train_log, models)"
   ]
  },
  {
   "cell_type": "markdown",
   "metadata": {},
   "source": [
    "### EN"
   ]
  },
  {
   "cell_type": "code",
   "execution_count": 79,
   "metadata": {},
   "outputs": [
    {
     "name": "stdout",
     "output_type": "stream",
     "text": [
      "EN\n",
      "BestTestScore: -0.013079 {'l1_ratio': 0.5, 'alpha': 0.001, 'max_iter': 1000}\n"
     ]
    }
   ],
   "source": [
    "# name\n",
    "name = 'EN'\n",
    "# model\n",
    "model = ElasticNet()\n",
    "# param_grid (learning_rate, n_estimators)\n",
    "param_grid = {'alpha':[1,0.01,0.001],\n",
    "             'l1_ratio':[0.5, 0.9],\n",
    "             'max_iter':[1000,10000]}\n",
    "# tune\n",
    "tune_model(name, model, param_grid, X_train2,y_train_log)"
   ]
  },
  {
   "cell_type": "code",
   "execution_count": 82,
   "metadata": {},
   "outputs": [
    {
     "name": "stdout",
     "output_type": "stream",
     "text": [
      "EN\n",
      "BestTestScore: -0.013051 {'l1_ratio': 0.4, 'alpha': 0.0009, 'max_iter': 1000000}\n"
     ]
    }
   ],
   "source": [
    "# param_grid (learning_rate, n_estimators)\n",
    "param_grid = {'alpha':[0.0009,0.001],\n",
    "             'l1_ratio':[0.4,0.5,0.55],\n",
    "             'max_iter':[1000000,1000]}\n",
    "# tune\n",
    "tune_model(name, model, param_grid, X_train2,y_train_log)"
   ]
  },
  {
   "cell_type": "markdown",
   "metadata": {},
   "source": [
    "## Use A3 Data (skewness corrected, Year-categorized)"
   ]
  },
  {
   "cell_type": "markdown",
   "metadata": {},
   "source": [
    "## Load Data (a3)"
   ]
  },
  {
   "cell_type": "code",
   "execution_count": 74,
   "metadata": {},
   "outputs": [],
   "source": [
    "# load data (pre-processed)\n",
    "train3 = pd.read_csv(\"train_a3.csv\")\n",
    "test3 = pd.read_csv(\"test_a3.csv\")"
   ]
  },
  {
   "cell_type": "markdown",
   "metadata": {},
   "source": [
    "## np array & drop \"Id' col"
   ]
  },
  {
   "cell_type": "code",
   "execution_count": 75,
   "metadata": {},
   "outputs": [
    {
     "name": "stdout",
     "output_type": "stream",
     "text": [
      "(1458, 617) (1459, 617)\n"
     ]
    }
   ],
   "source": [
    "X_train3 = train3.iloc[:,1:-1].values # excule 'SalePrice'\n",
    "\n",
    "X_test3 = test3.iloc[:,1:].values\n",
    "\n",
    "print(X_train3.shape, X_test3.shape)"
   ]
  },
  {
   "cell_type": "markdown",
   "metadata": {},
   "source": [
    "### Baseline"
   ]
  },
  {
   "cell_type": "code",
   "execution_count": 77,
   "metadata": {
    "scrolled": true
   },
   "outputs": [
    {
     "name": "stdout",
     "output_type": "stream",
     "text": [
      "Lasso:0.399587(0.010212)\n",
      "ET:0.399587(0.010212)\n",
      "GBM:0.134944(0.010139)\n",
      "XBG:0.134486(0.011985)\n"
     ]
    },
    {
     "data": {
      "text/plain": [
       "<matplotlib.axes._subplots.AxesSubplot at 0x115b34c50>"
      ]
     },
     "execution_count": 77,
     "metadata": {},
     "output_type": "execute_result"
    },
    {
     "data": {
      "image/png": "[encoded data removed]",
      "text/plain": [
       "<matplotlib.figure.Figure at 0x113eaff28>"
      ]
     },
     "metadata": {},
     "output_type": "display_data"
    }
   ],
   "source": [
    "models = []\n",
    "models.append(('Lasso',Lasso()))\n",
    "models.append(('ET',ElasticNet()))\n",
    "models.append(('GBM',GradientBoostingRegressor()))\n",
    "models.append(('XBG',XGBRegressor()))\n",
    "\n",
    "evalute_models(X_train3, y_train_log, models)"
   ]
  },
  {
   "cell_type": "markdown",
   "metadata": {},
   "source": [
    "### EN"
   ]
  },
  {
   "cell_type": "code",
   "execution_count": 83,
   "metadata": {},
   "outputs": [
    {
     "name": "stdout",
     "output_type": "stream",
     "text": [
      "EN\n",
      "BestTestScore: -0.013846 {'l1_ratio': 0.5, 'alpha': 0.001, 'max_iter': 1000}\n"
     ]
    }
   ],
   "source": [
    "# name\n",
    "name = 'EN'\n",
    "# model\n",
    "model = ElasticNet()\n",
    "# param_grid (learning_rate, n_estimators)\n",
    "param_grid = {'alpha':[1,0.01,0.001],\n",
    "             'l1_ratio':[0.5, 0.9],\n",
    "             'max_iter':[1000,10000]}\n",
    "# tune\n",
    "tune_model(name, model, param_grid, X_train3,y_train_log)"
   ]
  },
  {
   "cell_type": "markdown",
   "metadata": {},
   "source": [
    "### XGB"
   ]
  },
  {
   "cell_type": "code",
   "execution_count": 85,
   "metadata": {},
   "outputs": [
    {
     "name": "stdout",
     "output_type": "stream",
     "text": [
      "{'learning_rate': [0.05, 0.1, 0.15], 'max_depth': [2, 3, 4], 'n_estimators': [100, 300, 1000]}\n",
      "XGB\n",
      "BestTestScore: -0.014238 {'learning_rate': 0.05, 'max_depth': 2, 'n_estimators': 1000}\n"
     ]
    }
   ],
   "source": [
    "# name\n",
    "name = 'XGB'\n",
    "# model\n",
    "model = XGBRegressor()\n",
    "# param_grid (learning_rate, n_estimators)\n",
    "param_grid = {}\n",
    "param_grid['max_depth']=[2,3,4]\n",
    "param_grid['learning_rate']=[0.05,0.1,0.15]\n",
    "param_grid['n_estimators']=[100,300,1000]\n",
    "print(param_grid)\n",
    "\n",
    "# tune\n",
    "tune_model(name, model, param_grid, X_train2,y_train_log)"
   ]
  }
 ],
 "metadata": {
  "kernelspec": {
   "display_name": "Python 3",
   "language": "python",
   "name": "python3"
  },
  "language_info": {
   "codemirror_mode": {
    "name": "ipython",
    "version": 3
   },
   "file_extension": ".py",
   "mimetype": "text/x-python",
   "name": "python",
   "nbconvert_exporter": "python",
   "pygments_lexer": "ipython3",
   "version": "3.5.4"
  }
 },
 "nbformat": 4,
 "nbformat_minor": 2
}
